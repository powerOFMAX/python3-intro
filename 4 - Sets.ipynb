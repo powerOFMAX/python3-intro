{
 "cells": [
  {
   "cell_type": "markdown",
   "metadata": {},
   "source": [
    "# Sets\n",
    "Sets are a type of collection (Means that like lists and tuples you can input different Python types). Unlike lists and tuples they are unordered. This means that sets don't record element position. Sets only have unique elements.\n",
    "## Creating a Set"
   ]
  },
  {
   "cell_type": "code",
   "execution_count": 2,
   "metadata": {},
   "outputs": [
    {
     "name": "stdout",
     "output_type": "stream",
     "text": [
      "Set:  {'Messi', 'Pele', 'Maradona'}\n"
     ]
    }
   ],
   "source": [
    "# To create a set we use curly brackets\n",
    "\n",
    "Set1 = {\"Pele\", \"Messi\", \"Maradona\",\"Pele\", \"Messi\", \"Maradona\",\"Pele\", \"Messi\", \"Maradona\"}\n",
    "\n",
    "# When the actual set is created, duplicate items will not be present\n",
    "print(\"Set: \", Set1)\n",
    "\n",
    "# We can convert a list to a set by using the function set() this is called \"Type-casting\""
   ]
  },
  {
   "cell_type": "code",
   "execution_count": 6,
   "metadata": {},
   "outputs": [
    {
     "name": "stdout",
     "output_type": "stream",
     "text": [
      "output:  {'Pele', 10, 'Maradona', 30}\n"
     ]
    }
   ],
   "source": [
    "exampleList = [\"Pele\", \"Maradona\", 10, 30, 10]\n",
    "exampleSet = set(exampleList)\n",
    "\n",
    "print(\"output: \", exampleSet)"
   ]
  },
  {
   "cell_type": "code",
   "execution_count": 1,
   "metadata": {},
   "outputs": [
    {
     "name": "stdout",
     "output_type": "stream",
     "text": [
      "============Add Method================\n",
      "{'Messi', 'Maradona', 'Pele'}\n",
      "{'Messi', 'Maradona', 'Pele', 'Batistuta'}\n",
      "============Remove Method================\n",
      "{'Messi', 'Maradona', 'Batistuta'}\n"
     ]
    }
   ],
   "source": [
    "# We can add an item to a set using the add method\n",
    "print(\"============Add Method================\")\n",
    "A = {\"Pele\", \"Messi\", \"Maradona\",\"Pele\", \"Messi\", \"Maradona\",\"Pele\", \"Messi\", \"Maradona\"}\n",
    "print(A)\n",
    "A.add(\"Batistuta\")\n",
    "print(A)\n",
    "\n",
    "print(\"============Remove Method================\")\n",
    "# We can also remove an item from a set using the remove method\n",
    "A.remove(\"Pele\")\n",
    "print(A)"
   ]
  },
  {
   "cell_type": "code",
   "execution_count": 18,
   "metadata": {},
   "outputs": [
    {
     "data": {
      "text/plain": [
       "True"
      ]
     },
     "execution_count": 18,
     "metadata": {},
     "output_type": "execute_result"
    }
   ],
   "source": [
    "# We can verify if an element is the set using the \"in\" command\n",
    "\"Maradona\" in A"
   ]
  },
  {
   "cell_type": "markdown",
   "metadata": {},
   "source": [
    "To have a better understanding of sets we can think in those like Venn diagrams. Each Set it's a circle. We can use the same operations, for example Union. In pyhton we represent the union of two sets with \"&\" all the items that are not in both sets disappear."
   ]
  },
  {
   "cell_type": "code",
   "execution_count": 20,
   "metadata": {},
   "outputs": [
    {
     "name": "stdout",
     "output_type": "stream",
     "text": [
      "{'Messi', 'Pele'}\n"
     ]
    }
   ],
   "source": [
    "A = {\"Pele\", \"Messi\", \"Maradona\",\"Pele\", \"Messi\", \"Maradona\",\"Pele\", \"Messi\", \"Maradona\"}\n",
    "B = {\"Pele\", \"Messi\"} # Maradona is not here\n",
    "C = A & B\n",
    "print(C)\n"
   ]
  },
  {
   "cell_type": "code",
   "execution_count": 2,
   "metadata": {},
   "outputs": [
    {
     "ename": "NameError",
     "evalue": "name 'C' is not defined",
     "output_type": "error",
     "traceback": [
      "\u001b[0;31m---------------------------------------------------------------------------\u001b[0m",
      "\u001b[0;31mNameError\u001b[0m                                 Traceback (most recent call last)",
      "\u001b[0;32m<ipython-input-2-0cbb15f2e9e7>\u001b[0m in \u001b[0;36m<module>\u001b[0;34m\u001b[0m\n\u001b[1;32m      1\u001b[0m \u001b[0;31m# We can also check if a set is a subset using the \"issubset\" method\u001b[0m\u001b[0;34m\u001b[0m\u001b[0;34m\u001b[0m\u001b[0;34m\u001b[0m\u001b[0m\n\u001b[0;32m----> 2\u001b[0;31m \u001b[0mC\u001b[0m\u001b[0;34m.\u001b[0m\u001b[0missubset\u001b[0m\u001b[0;34m(\u001b[0m\u001b[0mA\u001b[0m\u001b[0;34m)\u001b[0m\u001b[0;34m\u001b[0m\u001b[0;34m\u001b[0m\u001b[0m\n\u001b[0m",
      "\u001b[0;31mNameError\u001b[0m: name 'C' is not defined"
     ]
    }
   ],
   "source": [
    "# We can also check if a set is a subset using the \"issubset\" method\n",
    "C.issubset(A)"
   ]
  }
 ],
 "metadata": {
  "kernelspec": {
   "display_name": "Python 3",
   "language": "python",
   "name": "python3"
  },
  "language_info": {
   "codemirror_mode": {
    "name": "ipython",
    "version": 3
   },
   "file_extension": ".py",
   "mimetype": "text/x-python",
   "name": "python",
   "nbconvert_exporter": "python",
   "pygments_lexer": "ipython3",
   "version": "3.7.1"
  }
 },
 "nbformat": 4,
 "nbformat_minor": 2
}
