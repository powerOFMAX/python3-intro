{
 "cells": [
  {
   "cell_type": "markdown",
   "metadata": {},
   "source": [
    "## Branching"
   ]
  },
  {
   "cell_type": "code",
   "execution_count": 8,
   "metadata": {},
   "outputs": [
    {
     "name": "stdout",
     "output_type": "stream",
     "text": [
      "true\n",
      "End\n"
     ]
    }
   ],
   "source": [
    "# In Python here is an example of how to use if statements\n",
    "if (True):\n",
    "    # The behaviour\n",
    "    print(\"true\")\n",
    "else:\n",
    "    # Else behaviour\n",
    "    print(\"false\")\n",
    "    \n",
    "print(\"End\")"
   ]
  },
  {
   "cell_type": "code",
   "execution_count": 9,
   "metadata": {},
   "outputs": [
    {
     "name": "stdout",
     "output_type": "stream",
     "text": [
      "A\n",
      "End\n"
     ]
    }
   ],
   "source": [
    "# If we want to use a else if we have to use a elif\n",
    "\n",
    "if True:\n",
    "    # ...\n",
    "    print(\"A\")\n",
    "elif(True):\n",
    "    # ...\n",
    "    print(\"B\")\n",
    "else:\n",
    "    # ...\n",
    "    print(\"C\")\n",
    "\n",
    "print(\"End\")\n",
    "#all finished"
   ]
  },
  {
   "cell_type": "markdown",
   "metadata": {},
   "source": [
    "## Loops"
   ]
  },
  {
   "cell_type": "code",
   "execution_count": 10,
   "metadata": {},
   "outputs": [
    {
     "name": "stdout",
     "output_type": "stream",
     "text": [
      "For with index  ['white', 'white', 'white', 'white']\n",
      "\n",
      "\n",
      "For without index blue\n",
      "For without index white\n",
      "For without index green\n",
      "For without index yellow\n",
      "\n",
      "\n",
      "I:  0 Item:  blue\n",
      "I:  1 Item:  white\n",
      "I:  2 Item:  green\n",
      "I:  3 Item:  yellow\n"
     ]
    }
   ],
   "source": [
    "example = [\"blue\", \"white\", \"green\", \"yellow\"]\n",
    "\n",
    "for i in range(0,4):\n",
    "    example[i]=\"white\"\n",
    "\n",
    "print(\"For with index \", example)\n",
    "print(\"\\n\")\n",
    "\n",
    "example = [\"blue\", \"white\", \"green\", \"yellow\"]\n",
    "\n",
    "# We can also iterate through a list without indexes\n",
    "for e in example:\n",
    "    print(\"For without index\", e)\n",
    "\n",
    "print(\"\\n\")\n",
    "\n",
    "# we can use a for to loop with the index and the item\n",
    "for i, item in enumerate(example):\n",
    "    print(\"I: \",i, \"Item: \",item)"
   ]
  },
  {
   "cell_type": "markdown",
   "metadata": {},
   "source": [
    "## While loops"
   ]
  },
  {
   "cell_type": "code",
   "execution_count": 11,
   "metadata": {},
   "outputs": [
    {
     "name": "stdout",
     "output_type": "stream",
     "text": [
      "1\n",
      "2\n"
     ]
    }
   ],
   "source": [
    "# Example\n",
    "x = 3\n",
    "y = 1\n",
    "\n",
    "while(y != x):\n",
    "    print(y)\n",
    "    y=y+1"
   ]
  }
 ],
 "metadata": {
  "kernelspec": {
   "display_name": "Python 3",
   "language": "python",
   "name": "python3"
  },
  "language_info": {
   "codemirror_mode": {
    "name": "ipython",
    "version": 3
   },
   "file_extension": ".py",
   "mimetype": "text/x-python",
   "name": "python",
   "nbconvert_exporter": "python",
   "pygments_lexer": "ipython3",
   "version": "3.7.1"
  }
 },
 "nbformat": 4,
 "nbformat_minor": 2
}
