{
 "cells": [
  {
   "cell_type": "markdown",
   "metadata": {},
   "source": [
    "## Objects\n",
    "Every Object has:\n",
    "<ul>\n",
    "    <li>A type</li>\n",
    "    <li>An internal data representation (blueprint)</li>\n",
    "    <li>A set of procedures for iteracting with the object (methods)</li>\n",
    "</ul>\n",
    "An Object is an instance of a particular type, for example instances of an Integer, String, etc. <br/>\n",
    "We can find the type of a object by using the command type()"
   ]
  },
  {
   "cell_type": "code",
   "execution_count": 5,
   "metadata": {},
   "outputs": [
    {
     "data": {
      "text/plain": [
       "(list, tuple, int, dict)"
      ]
     },
     "execution_count": 5,
     "metadata": {},
     "output_type": "execute_result"
    }
   ],
   "source": [
    "type([1,4,5]), type((2,3,4,)), type(2123), type({\"asd\": 213})"
   ]
  },
  {
   "cell_type": "markdown",
   "metadata": {},
   "source": [
    "## Create your own class"
   ]
  },
  {
   "cell_type": "code",
   "execution_count": 1,
   "metadata": {},
   "outputs": [
    {
     "name": "stdout",
     "output_type": "stream",
     "text": [
      "10 Blue\n",
      "12\n"
     ]
    },
    {
     "data": {
      "text/plain": [
       "['__class__',\n",
       " '__delattr__',\n",
       " '__dict__',\n",
       " '__dir__',\n",
       " '__doc__',\n",
       " '__eq__',\n",
       " '__format__',\n",
       " '__ge__',\n",
       " '__getattribute__',\n",
       " '__gt__',\n",
       " '__hash__',\n",
       " '__init__',\n",
       " '__init_subclass__',\n",
       " '__le__',\n",
       " '__lt__',\n",
       " '__module__',\n",
       " '__ne__',\n",
       " '__new__',\n",
       " '__reduce__',\n",
       " '__reduce_ex__',\n",
       " '__repr__',\n",
       " '__setattr__',\n",
       " '__sizeof__',\n",
       " '__str__',\n",
       " '__subclasshook__',\n",
       " '__weakref__',\n",
       " 'add_radius']"
      ]
     },
     "execution_count": 1,
     "metadata": {},
     "output_type": "execute_result"
    }
   ],
   "source": [
    "class Circle(object):\n",
    "    # the __init__ is a constructor\n",
    "    # the radius and color parameters are used to initialize the color and the radius attributes of the class instance\n",
    "    # self parameter refers to the newly created instance of the class\n",
    "    def __init__(self, radius, color):\n",
    "        self.radius = radius;\n",
    "        self.color = color;\n",
    "        \n",
    "    # We can also add methods \n",
    "    def add_radius(self, r):\n",
    "        self.radius = self.radius + r\n",
    "\n",
    "C1 =  Circle (10, \"Blue\")\n",
    "print(C1.radius, C1.color)\n",
    "\n",
    "C1.add_radius(2)\n",
    "print(C1.radius)\n",
    "\n",
    "\n",
    "# we can use the \"dir\" function to obtain the list of data attributes and methods associated with a class\n",
    "dir(Circle)"
   ]
  },
  {
   "cell_type": "code",
   "execution_count": 2,
   "metadata": {},
   "outputs": [
    {
     "data": {
      "image/png": "[encoded data removed]",
      "text/plain": [
       "<Figure size 432x288 with 1 Axes>"
      ]
     },
     "metadata": {
      "needs_background": "light"
     },
     "output_type": "display_data"
    },
    {
     "data": {
      "image/png": "[encoded data removed]",
      "text/plain": [
       "<Figure size 432x288 with 1 Axes>"
      ]
     },
     "metadata": {
      "needs_background": "light"
     },
     "output_type": "display_data"
    },
    {
     "data": {
      "text/plain": [
       "(None, None)"
      ]
     },
     "execution_count": 2,
     "metadata": {},
     "output_type": "execute_result"
    }
   ],
   "source": [
    "# To show the differences between instances we are going to use the matplotlib to draw objects\n",
    "import matplotlib.pyplot as plt\n",
    "%matplotlib inline\n",
    "\n",
    "# in this example we are going to use a Rectangle Class\n",
    "class Rectangle(object):\n",
    "\n",
    "    #constructor\n",
    "    def __init__(self, width = 2 , height = 3, color=\"r\"): # default values\n",
    "        self.width = width;\n",
    "        self.height = height;\n",
    "        self.color = color;\n",
    "\n",
    "    def drawRectangle(self):\n",
    "        plt.gca().add_patch(plt.Rectangle((0,0), self.width, self.height, fc=self.color))\n",
    "        plt.axis('scaled')\n",
    "        plt.show()\n",
    "\n",
    "R1 = Rectangle()\n",
    "R2 = Rectangle(3,1, \"blue\")\n",
    "\n",
    "R1.drawRectangle(), R2.drawRectangle()\n",
    "# Both are instances of the same class"
   ]
  }
 ],
 "metadata": {
  "kernelspec": {
   "display_name": "Python 3",
   "language": "python",
   "name": "python3"
  },
  "language_info": {
   "codemirror_mode": {
    "name": "ipython",
    "version": 3
   },
   "file_extension": ".py",
   "mimetype": "text/x-python",
   "name": "python",
   "nbconvert_exporter": "python",
   "pygments_lexer": "ipython3",
   "version": "3.7.1"
  }
 },
 "nbformat": 4,
 "nbformat_minor": 2
}
