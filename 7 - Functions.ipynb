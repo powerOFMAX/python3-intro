{
 "cells": [
  {
   "cell_type": "markdown",
   "metadata": {},
   "source": [
    "## Functions\n",
    "Functions takes some input then produce some output or change.The function is just a piece of code you can reuse."
   ]
  },
  {
   "cell_type": "code",
   "execution_count": 4,
   "metadata": {},
   "outputs": [
    {
     "name": "stdout",
     "output_type": "stream",
     "text": [
      "I'm the function:  2 \n",
      "\n",
      "Help on function add1 in module __main__:\n",
      "\n",
      "add1(a)\n",
      "    We can add a documentation string\n",
      "\n"
     ]
    }
   ],
   "source": [
    "# Function example\n",
    "def add1(a): # we can also add documentation to the function\n",
    "    \"\"\" \n",
    "     We can add a documentation string\n",
    "    \"\"\"\n",
    "    b=a+1\n",
    "    return b\n",
    "\n",
    "print(\"I'm the function: \", add1(1),\"\\n\")\n",
    "\n",
    " #if we want to read the documentation of the function we have to use the help command\n",
    "help(add1) "
   ]
  },
  {
   "cell_type": "code",
   "execution_count": 10,
   "metadata": {},
   "outputs": [
    {
     "name": "stdout",
     "output_type": "stream",
     "text": [
      "Example\n"
     ]
    }
   ],
   "source": [
    "# We can have functions without a return\n",
    "def example():\n",
    "    print(\"Example\")\n",
    "    \n",
    "example()"
   ]
  },
  {
   "cell_type": "markdown",
   "metadata": {},
   "source": [
    "Python doesn't allow a function to have a empty body, so we can use the keyword \"pass\" which doesn't do anything, but satisfies the requirement of a non-empty body."
   ]
  },
  {
   "cell_type": "code",
   "execution_count": 16,
   "metadata": {},
   "outputs": [
    {
     "name": "stdout",
     "output_type": "stream",
     "text": [
      "None\n"
     ]
    }
   ],
   "source": [
    "def NoWork():\n",
    "    pass\n",
    "\n",
    "print(NoWork()) # This is going to return a None"
   ]
  },
  {
   "cell_type": "code",
   "execution_count": 21,
   "metadata": {},
   "outputs": [
    {
     "name": "stdout",
     "output_type": "stream",
     "text": [
      "Hi\n",
      "Bye\n",
      "Test\n"
     ]
    },
    {
     "data": {
      "text/plain": [
       "(None, None)"
      ]
     },
     "execution_count": 21,
     "metadata": {},
     "output_type": "execute_result"
    }
   ],
   "source": [
    "# If we want to receive more parameters our function can be like this\n",
    "def example(*parameters):\n",
    "    for e in parameters:\n",
    "        print(e)\n",
    "\n",
    "example(\"Hi\",\"Bye\"), example(\"Test\")"
   ]
  },
  {
   "cell_type": "code",
   "execution_count": 5,
   "metadata": {},
   "outputs": [
    {
     "name": "stdout",
     "output_type": "stream",
     "text": [
      "I'M GLOBAL\n"
     ]
    }
   ],
   "source": [
    "# As we know the variables inside are local\n",
    "# That's why if we want to create a global variable we have to add \"global\"\n",
    "def newFunction():\n",
    "    global globalVariable\n",
    "    globalVariable = \"I'M GLOBAL\"\n",
    "    \n",
    "    return globalVariable\n",
    "\n",
    "newFunction()\n",
    "print(globalVariable)"
   ]
  }
 ],
 "metadata": {
  "kernelspec": {
   "display_name": "Python 3",
   "language": "python",
   "name": "python3"
  },
  "language_info": {
   "codemirror_mode": {
    "name": "ipython",
    "version": 3
   },
   "file_extension": ".py",
   "mimetype": "text/x-python",
   "name": "python",
   "nbconvert_exporter": "python",
   "pygments_lexer": "ipython3",
   "version": "3.7.1"
  }
 },
 "nbformat": 4,
 "nbformat_minor": 2
}
