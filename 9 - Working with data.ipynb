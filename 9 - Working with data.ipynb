{
 "cells": [
  {
   "cell_type": "markdown",
   "metadata": {},
   "source": [
    "## Reading files with Open\n",
    "we can open the file example.txt as follows using the open function <br/>\n",
    "The first argument is the file path. The second parameter is the \"mode\". Common values used include \"r\" for reading, \"w\" for writing and \"a\" for appending."
   ]
  },
  {
   "cell_type": "code",
   "execution_count": 9,
   "metadata": {},
   "outputs": [
    {
     "name": "stdout",
     "output_type": "stream",
     "text": [
      "./example.txt r\n"
     ]
    }
   ],
   "source": [
    "File = open(\"./example.txt\", \"r\")\n",
    "\n",
    "# Once the file is loaded we can use it's attributes\n",
    "\n",
    "print(File.name, File.mode)\n",
    "\n",
    "# We should always close the file object using the method close.\n",
    "File.close()"
   ]
  },
  {
   "cell_type": "markdown",
   "metadata": {},
   "source": [
    "This could be tedious, instead of that we can use \"with\" statement to open the file. This is a better practice because it automatically closes the file. The code will run everything in the indent block, then closes the file."
   ]
  },
  {
   "cell_type": "code",
   "execution_count": 10,
   "metadata": {},
   "outputs": [
    {
     "name": "stdout",
     "output_type": "stream",
     "text": [
      "Hey I'm an example\n",
      "I'm other line\n",
      "\n",
      "Is closed:  True \n",
      "\n",
      "Hey I'm an example\n",
      "I'm other line\n"
     ]
    }
   ],
   "source": [
    "with open(\"./example.txt\",\"r\") as File1:\n",
    "    file_stuff = File1.read()\n",
    "    print(file_stuff)\n",
    "    #All the operations\n",
    "    \n",
    "print(\"\\nIs closed: \", File1.closed, \"\\n\") # We can check if the file content is closed\n",
    "print(file_stuff)   # We can print the file content out of the indent"
   ]
  },
  {
   "cell_type": "code",
   "execution_count": 11,
   "metadata": {},
   "outputs": [
    {
     "name": "stdout",
     "output_type": "stream",
     "text": [
      "[\"Hey I'm an example\\n\", \"I'm other line\"]\n",
      "===========\n",
      "Hey I'm an example\n",
      "\n",
      "===========\n",
      "Hey I'm an example\n",
      "\n",
      "I'm other line\n"
     ]
    }
   ],
   "source": [
    "# We can also output every line as an element in a list using the method readlines\n",
    "with open(\"./example.txt\", \"r\") as File1:\n",
    "    file_stuff = File1.readlines()\n",
    "    print(file_stuff)\n",
    "    print(\"===========\")\n",
    "    \n",
    "# If we just want to read the first line of the file we can use \"readline\" method\n",
    "with open(\"./example.txt\", \"r\") as File1:\n",
    "    file_stuff = File1.readline()\n",
    "    print(file_stuff)\n",
    "    print(\"===========\")\n",
    "\n",
    "# We can use it twice or more times to get each value or use a for to loop every line\n",
    "with open(\"./example.txt\", \"r\") as File1:\n",
    "    file_stuff = File1.readline()\n",
    "    print(file_stuff)\n",
    "    file_stuff = File1.readline()\n",
    "    print(file_stuff)"
   ]
  },
  {
   "cell_type": "code",
   "execution_count": 12,
   "metadata": {},
   "outputs": [
    {
     "name": "stdout",
     "output_type": "stream",
     "text": [
      "He\n",
      "y I'm\n"
     ]
    }
   ],
   "source": [
    "# Also we can specify the number of characters we would like to read from a string as an argument\n",
    "# We can combine this behaviour with the readline method\n",
    "\n",
    "with open(\"./example.txt\", \"r\") as File1:\n",
    "    file_stuff = File1.readline(2)\n",
    "    print(file_stuff)\n",
    "    file_stuff = File1.readline(5)\n",
    "    print(file_stuff)"
   ]
  },
  {
   "cell_type": "markdown",
   "metadata": {},
   "source": [
    "## Creating and writing files"
   ]
  },
  {
   "cell_type": "code",
   "execution_count": 13,
   "metadata": {},
   "outputs": [],
   "source": [
    "# We can create a file example2 as follows\n",
    "# File2 = open(\"./example2\",\"w\")\n",
    "# As before we are going to use the \"with\" statement\n",
    "\n",
    "with open(\"./example2.txt\",\"w\") as File2:\n",
    "    File2.write(\"This is a line A\") # With the write method we can write on the new file\n",
    "\n",
    "# We can set the mode to appended using a \"a\"\n",
    "with open(\"./example2.txt\", \"a\") as File2:\n",
    "    File2.write(\"This is a line B\")\n",
    "# The append will not create a new file, it will just write the existing file "
   ]
  },
  {
   "cell_type": "markdown",
   "metadata": {},
   "source": [
    "## Importing Pandas\n",
    "Pandas is a software library written for Python for data manipulation and analysis.\n",
    "### Pandas csv reading example\n",
    "<br/>\n",
    "<em>\n",
    "A csv is a typical file type used to store data<br/>\n",
    "We are going to see how to use it with few simple steps <br/>\n",
    "</em> <br/>\n",
    "<code>import pandas as pd</code>\n",
    "\n",
    "We can also read an online csv or urls but for this example we are going to use a local file <br/>\n",
    "<code>csv_path = \"file1.csv\"\n",
    "df = pd.read_csv(csv_path)</code>\n",
    "    \n",
    "One way pandas allows you to work with data is with data frames <br/>\n",
    "You can see the top elements  of your dataframe using the head method <br/>\n",
    "<code>csv_path=\"file1.csv\"\n",
    "df = pd.read_csv(csv_path)\n",
    "df.head()\n",
    "</code>\n",
    "\n",
    "We can do the same for reading an excel file<br/>\n",
    "<code>xlsx_path = \"file1.xlsx\"\n",
    "df = pd.read_excel(xlsx_path)\n",
    "df.head()</code>\n",
    "\n",
    "We have a lot of functions on pandas but the purpose of this guide is not to get into it.\n"
   ]
  },
  {
   "cell_type": "code",
   "execution_count": 14,
   "metadata": {},
   "outputs": [
    {
     "data": {
      "text/html": [
       "<div>\n",
       "<style scoped>\n",
       "    .dataframe tbody tr th:only-of-type {\n",
       "        vertical-align: middle;\n",
       "    }\n",
       "\n",
       "    .dataframe tbody tr th {\n",
       "        vertical-align: top;\n",
       "    }\n",
       "\n",
       "    .dataframe thead th {\n",
       "        text-align: right;\n",
       "    }\n",
       "</style>\n",
       "<table border=\"1\" class=\"dataframe\">\n",
       "  <thead>\n",
       "    <tr style=\"text-align: right;\">\n",
       "      <th></th>\n",
       "      <th>album</th>\n",
       "      <th>released</th>\n",
       "      <th>length</th>\n",
       "    </tr>\n",
       "  </thead>\n",
       "  <tbody>\n",
       "    <tr>\n",
       "      <th>0</th>\n",
       "      <td>thriller</td>\n",
       "      <td>1982</td>\n",
       "      <td>00:42:19</td>\n",
       "    </tr>\n",
       "    <tr>\n",
       "      <th>1</th>\n",
       "      <td>back in black</td>\n",
       "      <td>1980</td>\n",
       "      <td>00:42:11</td>\n",
       "    </tr>\n",
       "    <tr>\n",
       "      <th>2</th>\n",
       "      <td>the dark side of the moon</td>\n",
       "      <td>1973</td>\n",
       "      <td>00:42:49</td>\n",
       "    </tr>\n",
       "  </tbody>\n",
       "</table>\n",
       "</div>"
      ],
      "text/plain": [
       "                       album  released    length\n",
       "0                   thriller      1982  00:42:19\n",
       "1              back in black      1980  00:42:11\n",
       "2  the dark side of the moon      1973  00:42:49"
      ]
     },
     "execution_count": 14,
     "metadata": {},
     "output_type": "execute_result"
    }
   ],
   "source": [
    "# We can create a dataframe out of a dictionary.\n",
    "import pandas as pd\n",
    "\n",
    "songs = {\"album\": [\"thriller\",\"back in black\", \"the dark side of the moon\"], \"released\": [1982, 1980, 1973], \"length\": [\"00:42:19\",\"00:42:11\", \"00:42:49\"]}\n",
    "songs_frame =  pd.DataFrame(songs)\n",
    "# Once we created the new dataframe we can use all the methods pandas give us\n",
    "songs_frame.head()"
   ]
  },
  {
   "cell_type": "markdown",
   "metadata": {},
   "source": [
    "A dataframe is comprised of rows and columns. The keys correspond to the column labels. The values are lists corresponding to the rows. As we can see the keys correspond to the table headers. We can create a new dataframe consisting of one column. We just put the dataframe name and the name of the column header."
   ]
  },
  {
   "cell_type": "code",
   "execution_count": 15,
   "metadata": {},
   "outputs": [
    {
     "name": "stdout",
     "output_type": "stream",
     "text": [
      "   released\n",
      "0      1982\n",
      "1      1980\n",
      "2      1973\n",
      "   released    length\n",
      "0      1982  00:42:19\n",
      "1      1980  00:42:11\n",
      "2      1973  00:42:49\n"
     ]
    }
   ],
   "source": [
    "x = songs_frame[[\"released\"]]\n",
    "print(x.head())\n",
    "\n",
    "# We can do this with multiple column headers\n",
    "\n",
    "y = songs_frame[[\"released\", \"length\"]]\n",
    "print(y.head())"
   ]
  },
  {
   "cell_type": "code",
   "execution_count": 16,
   "metadata": {},
   "outputs": [
    {
     "name": "stdout",
     "output_type": "stream",
     "text": [
      "thriller\n",
      "1973\n"
     ]
    }
   ],
   "source": [
    "# We can use the \"ix\" method to access unique elements\n",
    "# ix is going to be depredated so I recommend to use iloc or loc instead\n",
    "# loc for label based indexing and iloc for just positional\n",
    "\n",
    "# We select the item at the position 0,0\n",
    "print(songs_frame.iloc[0,0])\n",
    "\n",
    "# Instead of index we can use the name of the column as well\n",
    "# We select the 3rd element of the released column\n",
    "print(songs_frame.loc[2,\"released\"])"
   ]
  },
  {
   "cell_type": "code",
   "execution_count": 17,
   "metadata": {},
   "outputs": [
    {
     "name": "stdout",
     "output_type": "stream",
     "text": [
      "      album  released    length\n",
      "0  thriller      1982  00:42:19\n",
      "      album  released    length\n",
      "0  thriller      1982  00:42:19\n"
     ]
    }
   ],
   "source": [
    "# We can also slice dataframes and assign the values to a new dataframe\n",
    "z = songs_frame.iloc[0:1, 0:3]\n",
    "\n",
    "# we can slice dataframes using the column names for values between\n",
    "print(z.head())\n",
    "\n",
    "y = songs_frame.loc[0:0, \"album\": \"length\"]\n",
    "print(y.head())"
   ]
  },
  {
   "cell_type": "code",
   "execution_count": 18,
   "metadata": {},
   "outputs": [
    {
     "data": {
      "text/plain": [
       "array([1982, 1980, 1973])"
      ]
     },
     "execution_count": 18,
     "metadata": {},
     "output_type": "execute_result"
    }
   ],
   "source": [
    "# Pandas has the method unique to determine the unique elements in a column of a dataframe\n",
    "songs_frame['released'].unique() \n",
    "# the result is all to the unique elements in the column released"
   ]
  },
  {
   "cell_type": "code",
   "execution_count": 19,
   "metadata": {},
   "outputs": [
    {
     "name": "stdout",
     "output_type": "stream",
     "text": [
      "0     True\n",
      "1     True\n",
      "2    False\n",
      "Name: released, dtype: bool\n",
      "           album  released    length\n",
      "0       thriller      1982  00:42:19\n",
      "1  back in black      1980  00:42:11\n"
     ]
    }
   ],
   "source": [
    "# We can use inequality operators for the entire dataframe, in pandas the result is a series of boolean values\n",
    "print(songs_frame['released'] >= 1980)\n",
    "\n",
    "# we can use this output to create a new dataframe\n",
    "newDf = songs_frame[songs_frame['released'] >= 1980 ]\n",
    "print(newDf.head())\n",
    "\n",
    "# we can save the new dataframe using the method to_csv(\"name.csv\")"
   ]
  }
 ],
 "metadata": {
  "kernelspec": {
   "display_name": "Python 3",
   "language": "python",
   "name": "python3"
  },
  "language_info": {
   "codemirror_mode": {
    "name": "ipython",
    "version": 3
   },
   "file_extension": ".py",
   "mimetype": "text/x-python",
   "name": "python",
   "nbconvert_exporter": "python",
   "pygments_lexer": "ipython3",
   "version": "3.7.1"
  }
 },
 "nbformat": 4,
 "nbformat_minor": 2
}
