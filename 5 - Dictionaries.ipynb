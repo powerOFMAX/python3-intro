{
 "cells": [
  {
   "cell_type": "markdown",
   "metadata": {},
   "source": [
    "# Keys and Values\n",
    "A dictionary has keys and values. The key is analogous to the index, they are like addresses but they don't have to be integers. They are usually characters, the values are similar to the elements in a list and contain information. <br/><br/>\n",
    "To create a diccionary we use curly brackets {}. The keys have to be immutable and unique. Each key is followed by value separated by a colon. Each key and value pair is separated by comma."
   ]
  },
  {
   "cell_type": "code",
   "execution_count": 1,
   "metadata": {},
   "outputs": [
    {
     "name": "stdout",
     "output_type": "stream",
     "text": [
      "{'value1': 1, 'value2': 2, 'value3': 3}\n",
      "==========================\n",
      "1\n",
      "==========================\n",
      "{'value1': 1, 'value2': 2, 'value3': 3, 'newValue': 23123}\n",
      "==========================\n",
      "{'value2': 2, 'value3': 3, 'newValue': 23123}\n",
      "==========================\n"
     ]
    },
    {
     "data": {
      "text/plain": [
       "True"
      ]
     },
     "execution_count": 1,
     "metadata": {},
     "output_type": "execute_result"
    }
   ],
   "source": [
    "example = {\"value1\": 1, \"value2\": 2, \"value3\": 3}\n",
    "print(example)\n",
    "print('==========================')\n",
    "\n",
    "#The key is used to look up the value\n",
    "print(example[\"value1\"])\n",
    "print('==========================')\n",
    "\n",
    "# We can add a new value to the diccionary like this\n",
    "example[\"newValue\"] = 23123\n",
    "print(example)\n",
    "print('==========================')\n",
    "\n",
    "# We can delete an entry as follows\n",
    "del(example[\"value1\"])\n",
    "print(example)\n",
    "print('==========================')\n",
    "\n",
    "# we can verify if an element is in the dictionary using the \"in\" command as follows\n",
    "\"value3\" in example # True if is in False If not"
   ]
  },
  {
   "cell_type": "code",
   "execution_count": 2,
   "metadata": {},
   "outputs": [
    {
     "name": "stdout",
     "output_type": "stream",
     "text": [
      "keys  dict_keys(['value2', 'value3', 'newValue'])\n",
      "values dict_values([2, 3, 23123])\n"
     ]
    }
   ],
   "source": [
    "# If we want to get all the keys of the dictionary we can use the method keys() the output is a list\n",
    "print(\"keys \", example.keys())\n",
    "\n",
    "# In the same way we can obtain the values using the method values\n",
    "print(\"values\", example.values())"
   ]
  }
 ],
 "metadata": {
  "kernelspec": {
   "display_name": "Python 3",
   "language": "python",
   "name": "python3"
  },
  "language_info": {
   "codemirror_mode": {
    "name": "ipython",
    "version": 3
   },
   "file_extension": ".py",
   "mimetype": "text/x-python",
   "name": "python",
   "nbconvert_exporter": "python",
   "pygments_lexer": "ipython3",
   "version": "3.7.1"
  }
 },
 "nbformat": 4,
 "nbformat_minor": 2
}
