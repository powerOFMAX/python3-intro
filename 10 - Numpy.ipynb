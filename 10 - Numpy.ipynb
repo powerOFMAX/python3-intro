{
 "cells": [
  {
   "cell_type": "markdown",
   "metadata": {},
   "source": [
    "##  Numpy 1D arrays\n",
    "Numpy is a library for scientific computing. It has many useful functions. There are many other advantages. Like speed ad memory. Numpy is also the basis for pandas.\n",
    "## Creating an array\n",
    "A Python list is a container that allows you to store and access data. Each element is associated with an index. We can access each element using a square brackets. A numpy array o Ndarray is similar to a list. It's usually fixed in size and each element is of the same type."
   ]
  },
  {
   "cell_type": "code",
   "execution_count": 3,
   "metadata": {},
   "outputs": [
    {
     "name": "stdout",
     "output_type": "stream",
     "text": [
      "Elements:  0 1 2 3 4\n",
      "\n",
      "Type:  <class 'numpy.ndarray'>\n",
      "\n",
      "data type:  int64\n",
      "\n",
      "Number of elements:  5\n",
      "\n",
      "Dimensions:  1\n",
      "\n",
      "Shape:  (5,)\n"
     ]
    }
   ],
   "source": [
    "import numpy as np\n",
    "\n",
    "a = np.array([0,1,2,3,4])\n",
    "# As with list we can access each element with an integer\n",
    "print(\"Elements: \",a[0], a[1], a[2], a[3],a[4])\n",
    "\n",
    "# to check the type of the object\n",
    "print(\"\\nType: \",type(a))\n",
    "\n",
    "# As numpy arrays contain data of the same type, we can use the attribute \"dtype\" to obtain the data-type of the array's elements\n",
    "print(\"\\ndata type: \", a.dtype)\n",
    "\n",
    "# to get the number of elements of the array we can use\n",
    "print(\"\\nNumber of elements: \",a.size)\n",
    "\n",
    "# ndim is used to get the number of array dimensions or the rank of the array\n",
    "print(\"\\nDimensions: \",a.ndim)\n",
    "\n",
    "# The attribute \"shape\" is a tuple of integers indicating the size of the array in each dimensions.\n",
    "print(\"\\nShape: \",a.shape)"
   ]
  },
  {
   "cell_type": "markdown",
   "metadata": {},
   "source": [
    "## Slicing and Indexing"
   ]
  },
  {
   "cell_type": "code",
   "execution_count": 4,
   "metadata": {},
   "outputs": [
    {
     "name": "stdout",
     "output_type": "stream",
     "text": [
      "[1 2 3]\n",
      "[  0 200   2   3   4]\n"
     ]
    }
   ],
   "source": [
    "# Like list and tuples we can slice a numpy array.\n",
    "d = a[1:4]\n",
    "print(d)\n",
    "\n",
    "# We can change the value of each element as follows\n",
    "a[1] = 200\n",
    "print(a)"
   ]
  },
  {
   "cell_type": "markdown",
   "metadata": {},
   "source": [
    "## Operations"
   ]
  },
  {
   "cell_type": "code",
   "execution_count": 5,
   "metadata": {},
   "outputs": [
    {
     "name": "stdout",
     "output_type": "stream",
     "text": [
      "\n",
      "Adition:  [1 1]\n",
      "\n",
      "Subtraction: [ 1 -1]\n",
      "\n",
      "Multiplication: [2 4]\n",
      "\n",
      "Product of two arrays:  [3 4]\n",
      "\n",
      "Dot Product:  5\n",
      "Before Broadcasting:  [ 1  2  3 -1]\n",
      "with Broadcasting:  [2 3 4 0]\n",
      "\n",
      "Mean:  0.0\n",
      "Max value:  3\n"
     ]
    }
   ],
   "source": [
    "# Numpy makes it easier to do many operations that are commonly performed in data science.\n",
    "\n",
    "# Vector addition and subtraction\n",
    "u = np.array([1,0])\n",
    "v = np.array([0,1])\n",
    "z = u + v\n",
    "print(\"\\nAdition: \",z)\n",
    "\n",
    "# Data subtraction\n",
    "u = np.array([1,0])\n",
    "v = np.array([0,1])\n",
    "z = u-v\n",
    "print(\"\\nSubtraction:\",z)\n",
    "\n",
    "# Array multiplication with a scalar\n",
    "y = np.array([1,2])\n",
    "z = 2*y\n",
    "print(\"\\nMultiplication:\",z)\n",
    "\n",
    "# Product of two numpy arrays\n",
    "u = np.array([1,2])\n",
    "v = np.array([3,2])\n",
    "z = u*v\n",
    "print(\"\\nProduct of two arrays: \",z)\n",
    "\n",
    "# Dot Product\n",
    "u = np.array([1,2])\n",
    "v = np.array([3,1])\n",
    "result = np.dot(u,v)\n",
    "print(\"\\nDot Product: \",result)\n",
    "\n",
    "# Adding constant to an numpy array\n",
    "u = np.array([1,2,3, -1])\n",
    "print(\"Before Broadcasting: \",u)\n",
    "\n",
    "# This will add that value to each element, this property is known as broadcasting\n",
    "z = u+1\n",
    "print(\"with Broadcasting: \",z)\n",
    "\n",
    "# We can calculaTe the average value of all the elements using method \"mean\"\n",
    "a = np.array([1,-1,1,-1])\n",
    "mean_a = a.mean()\n",
    "print(\"\\nMean: \", mean_a)\n",
    "\n",
    "# We can get the maximum value using method max\n",
    "print(\"Max value: \",u.max())"
   ]
  },
  {
   "cell_type": "markdown",
   "metadata": {},
   "source": [
    "## 2D Arrays"
   ]
  },
  {
   "cell_type": "code",
   "execution_count": 6,
   "metadata": {},
   "outputs": [
    {
     "name": "stdout",
     "output_type": "stream",
     "text": [
      "[[11, 12, 13], [21, 22, 23], [31, 32, 33]]\n",
      "Dim:  2\n",
      "Shape  (3, 3)\n",
      "Size:  9\n",
      "Subtraction:  [[3 1]\n",
      " [1 3]]\n"
     ]
    }
   ],
   "source": [
    "a = [[11,12,13],[21,22,23],[31,32,33]]\n",
    "A = np.array(a)\n",
    "\n",
    "print(a)\n",
    "# we can use ndim to get the dimensions\n",
    "print(\"Dim: \",A.ndim)\n",
    "\n",
    "# To get the shape in a tuple\n",
    "print(\"Shape \",A.shape)\n",
    "\n",
    "# we can get the size multiplying all 3 rows 3 columns\n",
    "print(\"Size: \",A.size)\n",
    "\n",
    "x = np.array([[1,0],[0,1]])\n",
    "y = np.array([[2,1],[1,2]])\n",
    "z = y + x\n",
    "print(\"Subtraction: \",z)\n",
    "\n",
    "# Like before we can multiply 2d arrays with sacalar or with other 2d array\n",
    "A = np.array([[0.1,1],[1.0,1]])\n",
    "B = np.array([[1,1],[1,1],[-1,1]])\n",
    "z = np.dot(B,A)"
   ]
  }
 ],
 "metadata": {
  "kernelspec": {
   "display_name": "Python 3",
   "language": "python",
   "name": "python3"
  },
  "language_info": {
   "codemirror_mode": {
    "name": "ipython",
    "version": 3
   },
   "file_extension": ".py",
   "mimetype": "text/x-python",
   "name": "python",
   "nbconvert_exporter": "python",
   "pygments_lexer": "ipython3",
   "version": "3.7.1"
  }
 },
 "nbformat": 4,
 "nbformat_minor": 2
}
