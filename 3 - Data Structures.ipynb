{
 "cells": [
  {
   "cell_type": "markdown",
   "metadata": {},
   "source": [
    "# Tuples"
   ]
  },
  {
   "cell_type": "markdown",
   "metadata": {},
   "source": [
    "Tuples are an ordered sequence.\n",
    "Tuples are written as comma-separated elements within parentheses.\n",
    "In Python they are different types: Strings, Integer, Float, etc.\n",
    "They can call be contained in a tuple, but the type of the variable is tuple."
   ]
  },
  {
   "cell_type": "code",
   "execution_count": 3,
   "metadata": {},
   "outputs": [
    {
     "data": {
      "text/plain": [
       "('This is an example', 23, 5.6)"
      ]
     },
     "execution_count": 3,
     "metadata": {},
     "output_type": "execute_result"
    }
   ],
   "source": [
    "Example = (\"This is an example\", 23, 5.6)\n",
    "Example"
   ]
  },
  {
   "cell_type": "code",
   "execution_count": 5,
   "metadata": {},
   "outputs": [
    {
     "name": "stdout",
     "output_type": "stream",
     "text": [
      "Element 0 This is an example\n",
      "Element 1 23\n",
      "Element 2 5.6\n"
     ]
    }
   ],
   "source": [
    "#Each element of a tuple can be accessed via index.\n",
    "print(\"Element 0\", Example[0])\n",
    "print(\"Element 1\", Example[1])\n",
    "print(\"Element 2\", Example[2])"
   ]
  },
  {
   "cell_type": "markdown",
   "metadata": {},
   "source": [
    "We can also concatenate or combine tuples by adding them."
   ]
  },
  {
   "cell_type": "code",
   "execution_count": 6,
   "metadata": {},
   "outputs": [
    {
     "data": {
      "text/plain": [
       "('This is an example', 23, 5.6, \"I'm a new tuple\", 10)"
      ]
     },
     "execution_count": 6,
     "metadata": {},
     "output_type": "execute_result"
    }
   ],
   "source": [
    "newTuple =  Example + (\"I'm a new tuple\", 10)\n",
    "newTuple"
   ]
  },
  {
   "cell_type": "markdown",
   "metadata": {},
   "source": [
    "If we would like multiple elements from a tuple, we could also slice tuples."
   ]
  },
  {
   "cell_type": "code",
   "execution_count": 11,
   "metadata": {},
   "outputs": [
    {
     "name": "stdout",
     "output_type": "stream",
     "text": [
      "elements:  5\n"
     ]
    },
    {
     "data": {
      "text/plain": [
       "(('This is an example', 23, 5.6), (\"I'm a new tuple\", 10))"
      ]
     },
     "execution_count": 11,
     "metadata": {},
     "output_type": "execute_result"
    }
   ],
   "source": [
    "#We use a 5 because the tuple has 5 elements\n",
    "\n",
    "print(\"elements: \", len(newTuple))\n",
    "newTuple[0:3], newTuple[3:5]"
   ]
  },
  {
   "cell_type": "markdown",
   "metadata": {},
   "source": [
    "Tuples are immutable, wich means we can't change them. When we say that it's immutable we are talking about that if we have a variable with a tuple we can't change the tuple but we can change the reference of the variable, or if we would like to manipulate a tuple we must create a new tuple instead."
   ]
  },
  {
   "cell_type": "code",
   "execution_count": 15,
   "metadata": {},
   "outputs": [
    {
     "data": {
      "text/plain": [
       "((2, 5, 2), (10, 5, 4, 2))"
      ]
     },
     "execution_count": 15,
     "metadata": {},
     "output_type": "execute_result"
    }
   ],
   "source": [
    "variable1 = (10,5,4,2) \n",
    "variable2 = variable1 \n",
    "\n",
    "# Each variable does not contain a tuple, but references the same immutable tuple object\n",
    "#  \n",
    "#    Variables     References        Tuple\n",
    "#\n",
    "#  variable1 ===========               \n",
    "#                       =============>(10,5,4,2) \n",
    "#  variable2 ===========\n",
    "\n",
    "# We can assign a different tuple to a variable\n",
    "\n",
    "variable1 = (2,5,2)\n",
    "#    Variables     References        Tuple\n",
    "#\n",
    "#  variable1 ========================>(2,5,2)\n",
    "#\n",
    "#  variable2 ========================>(10,5,4,2) \n",
    "variable1, variable2"
   ]
  },
  {
   "cell_type": "markdown",
   "metadata": {},
   "source": [
    "## Manipulating tuples"
   ]
  },
  {
   "cell_type": "code",
   "execution_count": 4,
   "metadata": {},
   "outputs": [
    {
     "data": {
      "text/plain": [
       "((10, 2, 4, 1, 6, 8, 3), [1, 2, 3, 4, 6, 8, 10])"
      ]
     },
     "execution_count": 4,
     "metadata": {},
     "output_type": "execute_result"
    }
   ],
   "source": [
    "# Sorting a tuple\n",
    "exampleTuple = (10, 2, 4, 1, 6, 8, 3)\n",
    "sortedTuple = sorted(exampleTuple)\n",
    "\n",
    "# The output it's a new tuple\n",
    "exampleTuple, sortedTuple"
   ]
  },
  {
   "cell_type": "markdown",
   "metadata": {},
   "source": [
    "A tuple can contain other tuples as well as other complex data types, this is called nesting."
   ]
  },
  {
   "cell_type": "code",
   "execution_count": 5,
   "metadata": {},
   "outputs": [
    {
     "name": "stdout",
     "output_type": "stream",
     "text": [
      "Nested tuple:  (1, 2, ('book', 'newspaper'), (3, 4), ('party', (1, 2)))\n",
      "Selecting by index:  newspaper\n"
     ]
    }
   ],
   "source": [
    "abc = (1, 2, (\"book\",\"newspaper\"), (3, 4), (\"party\",(1, 2)))\n",
    "print(\"Nested tuple: \", abc)\n",
    "print(\"Selecting by index: \", abc[2][1])"
   ]
  },
  {
   "cell_type": "markdown",
   "metadata": {},
   "source": [
    "# Lists\n",
    "Lists are also ordered sequences. A List is represented with square brackets. One key difference is they are mutable. As Tuples, Lists can contain Strings, Floats, Integers and we can nest other lists. We can also nest tuples and other data structures and the same indexing conventions apply for nesting."
   ]
  },
  {
   "cell_type": "code",
   "execution_count": 9,
   "metadata": {},
   "outputs": [
    {
     "data": {
      "text/plain": [
       "['Maradona', 10.2, 123]"
      ]
     },
     "execution_count": 9,
     "metadata": {},
     "output_type": "execute_result"
    }
   ],
   "source": [
    "L = [\"Maradona\", 10.2, 123]\n",
    "L"
   ]
  },
  {
   "cell_type": "code",
   "execution_count": 10,
   "metadata": {},
   "outputs": [
    {
     "name": "stdout",
     "output_type": "stream",
     "text": [
      "[10.2, 123]\n",
      "['Maradona', 10.2, 123, 'Pele', 10]\n"
     ]
    }
   ],
   "source": [
    "# The index conventions for lists and tuples are identical.\n",
    "print(L[1:4])\n",
    "\n",
    "# We also can concatenate or combine lists by adding them.\n",
    "L1 = L + [\"Pele\", 10]\n",
    "print(L1)"
   ]
  },
  {
   "cell_type": "code",
   "execution_count": 11,
   "metadata": {},
   "outputs": [
    {
     "name": "stdout",
     "output_type": "stream",
     "text": [
      "List before change:  ['Maradona', 10.2, 123]\n",
      "List changed:  ['Maradona', 10.2, 123, 'Pele: ', 10]\n"
     ]
    }
   ],
   "source": [
    "print(\"List before change: \", L)\n",
    "\n",
    "# As I said, Lists are mutable, therefore, we can change them\n",
    "# We apply the method extends by adding a \".\" followed by the name of the method then parentheshis.\n",
    "\n",
    "L.extend([\"Pele: \", 10])\n",
    "print(\"List changed: \", L)\n",
    "\n",
    "#As we can see, instead of creating a new list L1 the original list L is modified by adding the new elements."
   ]
  },
  {
   "cell_type": "markdown",
   "metadata": {},
   "source": [
    "Instead of extend method we could use Append method. If we apply append instead of extend we add just one element to the list"
   ]
  },
  {
   "cell_type": "code",
   "execution_count": 12,
   "metadata": {},
   "outputs": [
    {
     "name": "stdout",
     "output_type": "stream",
     "text": [
      "First value:  [10.2, 123]\n",
      "After append:  [10.2, 123, ['Pele', 10]]\n",
      "Final L3:  [10.2, 123, ['Pele', 10], 'D']\n"
     ]
    }
   ],
   "source": [
    "L3 = [10.2, 123]\n",
    "print(\"First value: \", L3)\n",
    "\n",
    "L3.append([\"Pele\",10])\n",
    "print(\"After append: \", L3)\n",
    "\n",
    "# If we append a string this will be added\n",
    "L3.append(\"D\")\n",
    "print (\"Final L3: \", L3)"
   ]
  },
  {
   "cell_type": "code",
   "execution_count": 16,
   "metadata": {},
   "outputs": [
    {
     "name": "stdout",
     "output_type": "stream",
     "text": [
      "['Maradona', 10, 2]\n",
      "Final A:  ['Maradona', 10]\n"
     ]
    }
   ],
   "source": [
    "# We can change every element of the list\n",
    "A = [\"Pele\", 10, 2]\n",
    "A[0] = \"Maradona\"\n",
    "print(A)\n",
    "\n",
    "# We can delete an element of the list using the \"del\" command\n",
    "del(A[2])\n",
    "print(\"Final A: \", A)"
   ]
  },
  {
   "cell_type": "code",
   "execution_count": 17,
   "metadata": {},
   "outputs": [
    {
     "name": "stdout",
     "output_type": "stream",
     "text": [
      "['This', 'is', 'an', 'example']\n",
      "['1', '34', '5', '63', '6', '3']\n"
     ]
    }
   ],
   "source": [
    "# We can convert a string to a list using split\n",
    "print(\"This is an example\".split())\n",
    "\n",
    "# We can use the split function to separate strings on a specific character, known as a delimiter.\n",
    "print(\"1,34,5,63,6,3\".split(\",\"))"
   ]
  },
  {
   "cell_type": "markdown",
   "metadata": {},
   "source": [
    "## Aliasing\n",
    "When we set one variable A equal to B, both A and B are referencing the same list. Multiple names referring to the same object is known as aliasing."
   ]
  },
  {
   "cell_type": "code",
   "execution_count": 21,
   "metadata": {},
   "outputs": [
    {
     "name": "stdout",
     "output_type": "stream",
     "text": [
      "Before Change:  The Life The Life\n",
      "Changed:  ['Box', 2, 3]\n",
      "['Box', 2, 3] ['The Life', 2, 3]\n"
     ]
    }
   ],
   "source": [
    "# For example\n",
    "A = [\"The Life\", 2, 3]\n",
    "B = A\n",
    "\n",
    "print(\"Before Change: \", A[0], B[0]) # Both are referencing the same list\n",
    "\n",
    "# If we change A, list B also changes\n",
    "A[0] = \"Box\"\n",
    "print(\"Changed: \",B)\n",
    "\n",
    "# To avoid that we can clone list A using the followig syntax\n",
    "A = [\"The Life\", 2, 3]\n",
    "B = A[:]\n",
    "A[0] = \"Box\"\n",
    "print(\"Cloning the value: \", A,B)"
   ]
  }
 ],
 "metadata": {
  "kernelspec": {
   "display_name": "Python 3",
   "language": "python",
   "name": "python3"
  },
  "language_info": {
   "codemirror_mode": {
    "name": "ipython",
    "version": 3
   },
   "file_extension": ".py",
   "mimetype": "text/x-python",
   "name": "python",
   "nbconvert_exporter": "python",
   "pygments_lexer": "ipython3",
   "version": "3.7.1"
  }
 },
 "nbformat": 4,
 "nbformat_minor": 2
}
