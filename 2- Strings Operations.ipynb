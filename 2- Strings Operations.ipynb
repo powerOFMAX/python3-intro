{
 "cells": [
  {
   "cell_type": "markdown",
   "metadata": {},
   "source": [
    "## Basic String Operations\n",
    "In this notebook you are going to see the most basic and useful strings operations"
   ]
  },
  {
   "cell_type": "code",
   "execution_count": 15,
   "metadata": {},
   "outputs": [
    {
     "data": {
      "text/plain": [
       "('C', 's')"
      ]
     },
     "execution_count": 15,
     "metadata": {},
     "output_type": "execute_result"
    }
   ],
   "source": [
    "#Strings \n",
    "name = \"Carlos Example\"\n",
    "# [C, a, r, l, o, s,  , E, x, a,  m,  p,  l,  e]\n",
    "# [0, 1, 2, 3, 4, 5, 6, 7, 8, 9, 10, 11, 12, 13]\n",
    "name[0], name[5]"
   ]
  },
  {
   "cell_type": "code",
   "execution_count": 16,
   "metadata": {},
   "outputs": [
    {
     "data": {
      "text/plain": [
       "('e', 'C')"
      ]
     },
     "execution_count": 16,
     "metadata": {},
     "output_type": "execute_result"
    }
   ],
   "source": [
    "# We can also use negative indexing with strings.\n",
    "# [  C,   a,   r,   l,   o,  s,   ,  E,  x,  a,  m,  p,  l,  e]\n",
    "# [-14, -13, -12, -11, -10, -9, -8, -7, -6, -5, -4, -3, -2, -1]\n",
    "name[-1], name[-14]"
   ]
  },
  {
   "cell_type": "code",
   "execution_count": 17,
   "metadata": {},
   "outputs": [
    {
     "name": "stdout",
     "output_type": "stream",
     "text": [
      "Carl\n",
      "Examp\n"
     ]
    }
   ],
   "source": [
    "# We can Also Slice strings\n",
    "print(name[0:4]) #From position 0 up to position 4\n",
    "print(name[7:12]) #From position 7 up to position 12"
   ]
  },
  {
   "cell_type": "code",
   "execution_count": 18,
   "metadata": {},
   "outputs": [
    {
     "data": {
      "text/plain": [
       "'Cro xml'"
      ]
     },
     "execution_count": 18,
     "metadata": {},
     "output_type": "execute_result"
    }
   ],
   "source": [
    "# We can input a stride value. In this example The 2 indicates we select every second variable.\n",
    "name[::2]"
   ]
  },
  {
   "cell_type": "code",
   "execution_count": 19,
   "metadata": {},
   "outputs": [
    {
     "data": {
      "text/plain": [
       "'Cro'"
      ]
     },
     "execution_count": 19,
     "metadata": {},
     "output_type": "execute_result"
    }
   ],
   "source": [
    "# We can combinate slicing to the last example\n",
    "# [  C,   a,   r,   l,   o,  s]\n",
    "# [  0,   1,   2,   3,   4,  5]\n",
    "name[0:5:2]"
   ]
  },
  {
   "cell_type": "code",
   "execution_count": 20,
   "metadata": {},
   "outputs": [
    {
     "data": {
      "text/plain": [
       "14"
      ]
     },
     "execution_count": 20,
     "metadata": {},
     "output_type": "execute_result"
    }
   ],
   "source": [
    "# With the 'len' command we can obtain the length of the string.\n",
    "len(name)"
   ]
  },
  {
   "cell_type": "code",
   "execution_count": 21,
   "metadata": {},
   "outputs": [
    {
     "data": {
      "text/plain": [
       "'Carlos Example is not a real person'"
      ]
     },
     "execution_count": 21,
     "metadata": {},
     "output_type": "execute_result"
    }
   ],
   "source": [
    "# We can concatenate or combine strings\n",
    "statement = name + \" is not a real person\"\n",
    "statement"
   ]
  },
  {
   "cell_type": "code",
   "execution_count": 22,
   "metadata": {},
   "outputs": [
    {
     "data": {
      "text/plain": [
       "'String example String example String example '"
      ]
     },
     "execution_count": 22,
     "metadata": {},
     "output_type": "execute_result"
    }
   ],
   "source": [
    "# We can replicate values of a string. We simply multiply the string by the number.\n",
    "\"String example \" *3"
   ]
  },
  {
   "cell_type": "code",
   "execution_count": 23,
   "metadata": {},
   "outputs": [],
   "source": [
    "# You can't chang the value of the string, but you can create a new string.\n",
    "# You can't do this: name[0] = \"F\"\n",
    "# you can create this\n",
    "# name = name + \"is not a real person\"\n",
    "# name: \"Carlos Example is not a real person\""
   ]
  },
  {
   "cell_type": "markdown",
   "metadata": {},
   "source": [
    "## Escape Sequences"
   ]
  },
  {
   "cell_type": "markdown",
   "metadata": {},
   "source": [
    "\\ are meant to proceed escape sequences."
   ]
  },
  {
   "cell_type": "code",
   "execution_count": 24,
   "metadata": {},
   "outputs": [
    {
     "name": "stdout",
     "output_type": "stream",
     "text": [
      "Carlos Example \n",
      " is not real\n"
     ]
    }
   ],
   "source": [
    "print(\"Carlos Example \\n is not real\") # Here n represents a new line"
   ]
  },
  {
   "cell_type": "code",
   "execution_count": 25,
   "metadata": {},
   "outputs": [
    {
     "name": "stdout",
     "output_type": "stream",
     "text": [
      "Carlos Example \t is not real\n"
     ]
    }
   ],
   "source": [
    "print(\"Carlos Example \\t is not real\") # Here t represents a tab"
   ]
  },
  {
   "cell_type": "code",
   "execution_count": 26,
   "metadata": {},
   "outputs": [
    {
     "name": "stdout",
     "output_type": "stream",
     "text": [
      "Carlos Example \\ is not real\n"
     ]
    }
   ],
   "source": [
    "# If you want to place a backslash in your string you should use a double backslash in your string.\n",
    "print(\"Carlos Example \\\\ is not real\")"
   ]
  },
  {
   "cell_type": "code",
   "execution_count": 27,
   "metadata": {},
   "outputs": [
    {
     "name": "stdout",
     "output_type": "stream",
     "text": [
      "Carlos Example \\ is not real\n"
     ]
    }
   ],
   "source": [
    "# Also you can place an r in front of the string.\n",
    "print(r\"Carlos Example \\ is not real\")"
   ]
  },
  {
   "cell_type": "markdown",
   "metadata": {},
   "source": [
    "## String Methods"
   ]
  },
  {
   "cell_type": "markdown",
   "metadata": {},
   "source": [
    "When we apply a method to a string \"A\" we get a new string \"B\" that it's different from \"A\""
   ]
  },
  {
   "cell_type": "code",
   "execution_count": 28,
   "metadata": {},
   "outputs": [
    {
     "data": {
      "text/plain": [
       "(False, 'THRILLER IS THE SIXTH STUDIO ALBUM')"
      ]
     },
     "execution_count": 28,
     "metadata": {},
     "output_type": "execute_result"
    }
   ],
   "source": [
    "# From lowerCase to UpperCase\n",
    "A = \"Thriller is the sixth studio album\"\n",
    "B = A.upper()\n",
    "A == B,  B "
   ]
  },
  {
   "cell_type": "code",
   "execution_count": 29,
   "metadata": {},
   "outputs": [
    {
     "data": {
      "text/plain": [
       "'Messi is the best football player'"
      ]
     },
     "execution_count": 29,
     "metadata": {},
     "output_type": "execute_result"
    }
   ],
   "source": [
    "# Replace Method\n",
    "# If we just want to replace a value in a string we can use the replace method.\n",
    "\n",
    "A = \"Maradona is the best football player\"\n",
    "B = A.replace(\"Maradona\", \"Messi\")\n",
    "B"
   ]
  },
  {
   "cell_type": "code",
   "execution_count": 30,
   "metadata": {},
   "outputs": [
    {
     "name": "stdout",
     "output_type": "stream",
     "text": [
      "Carlos Example\n",
      "10\n",
      "not in the string -1\n"
     ]
    }
   ],
   "source": [
    "# With Find Method the output is the first index of the sequence\n",
    "# In this example we are using the variable declared before\n",
    "print(name)\n",
    "print(name.find('mp'))\n",
    "\n",
    "# If the sub-string is not in the string the output is negative one.\n",
    "print(\"not in the string\", name.find(\"house\"))"
   ]
  }
 ],
 "metadata": {
  "kernelspec": {
   "display_name": "Python 3",
   "language": "python",
   "name": "python3"
  },
  "language_info": {
   "codemirror_mode": {
    "name": "ipython",
    "version": 3
   },
   "file_extension": ".py",
   "mimetype": "text/x-python",
   "name": "python",
   "nbconvert_exporter": "python",
   "pygments_lexer": "ipython3",
   "version": "3.7.1"
  }
 },
 "nbformat": 4,
 "nbformat_minor": 2
}
